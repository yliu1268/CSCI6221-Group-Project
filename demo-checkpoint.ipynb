{
 "cells": [
  {
   "cell_type": "code",
   "execution_count": 2,
   "metadata": {},
   "outputs": [],
   "source": [
    "# using Pkg\n",
    "# Pkg.add(\"Images\")\n",
    "# Pkg.add(\"ImageEdgeDetection\")\n",
    "# Pkg.add(\"ImageCore\")\n",
    "# Pkg.add(\"ImageFiltering\")\n",
    "# Pkg.add(\"HTTP\")\n",
    "# Pkg.add(\"ImageMagick\")\n",
    "# Pkg.add(\"ImageView\")\n",
    "# Pkg.add(\"FileIO\")"
   ]
  },
  {
   "cell_type": "code",
   "execution_count": 4,
   "metadata": {},
   "outputs": [
    {
     "data": {
      "text/plain": [
       "carve_image (generic function with 1 method)"
      ]
     },
     "execution_count": 4,
     "metadata": {},
     "output_type": "execute_result"
    }
   ],
   "source": [
    "include(\"carving.jl\")"
   ]
  },
  {
   "cell_type": "code",
   "execution_count": 5,
   "metadata": {},
   "outputs": [
    {
     "ename": "LoadError",
     "evalue": "ArgumentError: Package Images not found in current path:\n- Run `import Pkg; Pkg.add(\"Images\")` to install the Images package.\n",
     "output_type": "error",
     "traceback": [
      "ArgumentError: Package Images not found in current path:\n- Run `import Pkg; Pkg.add(\"Images\")` to install the Images package.\n",
      "",
      "Stacktrace:",
      " [1] require(into::Module, mod::Symbol)",
      "   @ Base .\\loading.jl:967",
      " [2] eval",
      "   @ .\\boot.jl:373 [inlined]",
      " [3] include_string(mapexpr::typeof(REPL.softscope), mod::Module, code::String, filename::String)",
      "   @ Base .\\loading.jl:1196"
     ]
    }
   ],
   "source": [
    "using Images, ImageEdgeDetection, ImageCore, ImageFiltering\n",
    "using HTTP, ImageMagick, ImageView\n",
    "using FileIO"
   ]
  },
  {
   "cell_type": "code",
   "execution_count": 5,
   "metadata": {},
   "outputs": [
    {
     "data": {
      "text/plain": [
       "loadImgLocal (generic function with 1 method)"
      ]
     },
     "execution_count": 5,
     "metadata": {},
     "output_type": "execute_result"
    }
   ],
   "source": [
    "# load image\n",
    "function loadImgLocal(img_path)\n",
    "    img = load(img_path)\n",
    "    img\n",
    "end"
   ]
  },
  {
   "cell_type": "code",
   "execution_count": 6,
   "metadata": {},
   "outputs": [
    {
     "data": {
      "text/plain": [
       "loadImgOnline (generic function with 1 method)"
      ]
     },
     "execution_count": 6,
     "metadata": {},
     "output_type": "execute_result"
    }
   ],
   "source": [
    "function loadImgOnline(url)\n",
    "    r = HTTP.get(url)\n",
    "    buffer = IOBuffer(r.body)\n",
    "    img = ImageMagick.load(buffer)\n",
    "    img\n",
    "end"
   ]
  },
  {
   "cell_type": "code",
   "execution_count": 7,
   "metadata": {},
   "outputs": [
    {
     "data": {
      "text/plain": [
       "saveImg (generic function with 1 method)"
      ]
     },
     "execution_count": 7,
     "metadata": {},
     "output_type": "execute_result"
    }
   ],
   "source": [
    "function saveImg(type, path, img_source)\n",
    "    if type == 1 #jpg\n",
    "        # save file in JPG format\n",
    "        save(string(path,\"/saved_pic.jpg\"), img_source)\n",
    "    elseif type == 2 #png\n",
    "        # save file in PNG format\n",
    "        save(string(path,\"/saved_pic.png\"), img_source)\n",
    "    else\n",
    "        return \"not supported file type\"\n",
    "    end\n",
    "    return \"file saved\"\n",
    "end"
   ]
  },
  {
   "cell_type": "code",
   "execution_count": 8,
   "metadata": {},
   "outputs": [
    {
     "data": {
      "text/plain": [
       "detEdge (generic function with 1 method)"
      ]
     },
     "execution_count": 8,
     "metadata": {},
     "output_type": "execute_result"
    }
   ],
   "source": [
    "# edge dection function\n",
    "function detEdge(img_source, scale)\n",
    "    img_edge = detect_edges(img_source, Canny(spatial_scale=scale))\n",
    "    img_edge\n",
    "end"
   ]
  },
  {
   "cell_type": "code",
   "execution_count": 9,
   "metadata": {},
   "outputs": [
    {
     "data": {
      "text/plain": [
       "lapEdge (generic function with 1 method)"
      ]
     },
     "execution_count": 9,
     "metadata": {},
     "output_type": "execute_result"
    }
   ],
   "source": [
    "#laplacian edge detection\n",
    "function lapEdge(img_source)\n",
    "    img_edge = imfilter(img_source, Kernel.Laplacian())\n",
    "    img_edge\n",
    "end"
   ]
  },
  {
   "cell_type": "code",
   "execution_count": 10,
   "metadata": {},
   "outputs": [
    {
     "data": {
      "text/plain": [
       "sharpImg (generic function with 1 method)"
      ]
     },
     "execution_count": 10,
     "metadata": {},
     "output_type": "execute_result"
    }
   ],
   "source": [
    "function sharpImg(img)\n",
    "    gaussian_smoothing = 1\n",
    "    intensity = 1\n",
    "    # load an image and apply Gaussian smoothing filter\n",
    "    imgb = imfilter(img, Kernel.gaussian(gaussian_smoothing))\n",
    "    # convert images to Float to perform mathematical operations\n",
    "    img_array = Float16.(channelview(img))\n",
    "    imgb_array = Float16.(channelview(imgb))\n",
    "    # create a sharpened version of our image and fix values from 0 to 1\n",
    "    sharpened = img_array .* (1 + intensity) .+ imgb_array .* (-intensity)\n",
    "    sharpened = max.(sharpened, 0)\n",
    "    sharpened = min.(sharpened, 1)\n",
    "    sharpened_image = colorview(RGB, sharpened)\n",
    "    sharpened_image\n",
    "end"
   ]
  },
  {
   "cell_type": "code",
   "execution_count": 11,
   "metadata": {},
   "outputs": [
    {
     "data": {
      "text/plain": [
       "imgSaturate (generic function with 1 method)"
      ]
     },
     "execution_count": 11,
     "metadata": {},
     "output_type": "execute_result"
    }
   ],
   "source": [
    "#controlled by Red, Green, Blue\n",
    "function imgSaturate(img_source, r_par, g_par, b_par)\n",
    "    img = copy(img_source)\n",
    "    img_ch_view = channelview(img) # extract channels\n",
    "    img_ch_view = permuteddimsview(img_ch_view, (2, 3, 1))\n",
    "    x_coords = 1:size(img, 2)\n",
    "\n",
    "    img_ch_view[:, x_coords, 1] = min.(img_ch_view[:, x_coords, 1] .* r_par, 1)\n",
    "    img_ch_view[:, x_coords, 2] = min.(img_ch_view[:, x_coords, 2] .* g_par, 1)\n",
    "    img_ch_view[:, x_coords, 3] = min.(img_ch_view[:, x_coords, 3] .* b_par, 1)\n",
    "    img\n",
    "end"
   ]
  },
  {
   "cell_type": "code",
   "execution_count": 12,
   "metadata": {},
   "outputs": [
    {
     "data": {
      "text/plain": [
       "grayfilter (generic function with 1 method)"
      ]
     },
     "execution_count": 12,
     "metadata": {},
     "output_type": "execute_result"
    }
   ],
   "source": [
    "# grayscale image\n",
    "function grayfilter(img_source)\n",
    "    gray_img = Gray.(img_source)\n",
    "    gray_img\n",
    "end"
   ]
  },
  {
   "cell_type": "code",
   "execution_count": 13,
   "metadata": {},
   "outputs": [
    {
     "data": {
      "text/plain": [
       "resizeImg (generic function with 1 method)"
      ]
     },
     "execution_count": 13,
     "metadata": {},
     "output_type": "execute_result"
    }
   ],
   "source": [
    "function resizeImg(img_source,perc_H::Float64, perc_W::Float64)\n",
    "    H = trunc(Int,size(img_source)[1]*perc_H)\n",
    "    W = trunc(Int,size(img_source)[2]*perc_W)\n",
    "    resized_image = imresize(img_source, (H, W))\n",
    "    resized_image\n",
    "end"
   ]
  },
  {
   "cell_type": "code",
   "execution_count": 14,
   "metadata": {},
   "outputs": [
    {
     "data": {
      "text/plain": [
       "seamcarvImg (generic function with 1 method)"
      ]
     },
     "execution_count": 14,
     "metadata": {},
     "output_type": "execute_result"
    }
   ],
   "source": [
    "# *smart horizontal stretch\n",
    "function seamcarvImg(img_source, scale)\n",
    "    sm_img = carve_image(img_source, scale)\n",
    "    sm_img\n",
    "end"
   ]
  },
  {
   "cell_type": "code",
   "execution_count": 15,
   "metadata": {},
   "outputs": [
    {
     "data": {
      "text/plain": [
       "blurImg (generic function with 1 method)"
      ]
     },
     "execution_count": 15,
     "metadata": {},
     "output_type": "execute_result"
    }
   ],
   "source": [
    "function blurImg(img_source, scale)\n",
    "    blur_img = imfilter(img_source, Kernel.gaussian(scale))\n",
    "    blur_img\n",
    "end"
   ]
  },
  {
   "cell_type": "code",
   "execution_count": 16,
   "metadata": {},
   "outputs": [
    {
     "data": {
      "text/plain": [
       "Dict{String, Any} with 4 entries:\n",
       "  \"gui\"         => Dict{String, Any}(\"window\"=>GtkWindowLeaf(name=\"\", parent, w…\n",
       "  \"roi\"         => Dict{String, Any}(\"redraw\"=>50: \"map(clim-mapped image, inpu…\n",
       "  \"annotations\" => 3: \"input-2\" = Dict{UInt64, Any}() Dict{UInt64, Any} \n",
       "  \"clim\"        => 2: \"CLim\" = CLim{RGB{Float64}}(RGB{Float64}(0.0,0.0,0.0), RG…"
      ]
     },
     "execution_count": 16,
     "metadata": {},
     "output_type": "execute_result"
    }
   ],
   "source": [
    "#get img from disk\n",
    "og_img = loadImgLocal(\"./2.png\")\n",
    "\n",
    "# get img from web\n",
    "# url = \"https://cdn.shopify.com/s/files/1/0337/7469/products/Tropical-Beach-Scene-Wallpaper-Mural_a4592de9-8eca-4a10-9934-80a4a433e4f8_1800x1800.jpg\"\n",
    "# og_img = loadImgOnline(url)\n",
    "\n",
    "##image processing functions##\n",
    "# res = detEdge(og_img, 2)\n",
    "# res = lapEdge(og_img)\n",
    "# res = sharpImg(og_img)\n",
    "res = imgSaturate(og_img, 0.8, 0.8, 0.7)\n",
    "# res = grayfilter(og_img)\n",
    "# res = resizeImg(og_img, 0.6,0.4)\n",
    "# res = seamcarvImg(og_img, 200)\n",
    "# res = blurImg(og_img, 4)\n",
    "\n",
    "mosaicview(og_img, res; nrow=1) #comparesion\n",
    "\n",
    "##image result save to disk##\n",
    "#saveImg(type=, path=, img_source=) #type=1 is jpg, =2 is png\n",
    "#saveImg(2,\"E:/GWU/6221_Advanced Software Paradigms\",res)"
   ]
  },
  {
   "cell_type": "code",
   "execution_count": null,
   "metadata": {},
   "outputs": [],
   "source": [
    "#popout\n",
    "imshow(res)"
   ]
  }
 ],
 "metadata": {
  "kernelspec": {
   "display_name": "Julia 1.7.2",
   "language": "julia",
   "name": "julia-1.7"
  },
  "language_info": {
   "file_extension": ".jl",
   "mimetype": "application/julia",
   "name": "julia",
   "version": "1.7.2"
  }
 },
 "nbformat": 4,
 "nbformat_minor": 2
}
